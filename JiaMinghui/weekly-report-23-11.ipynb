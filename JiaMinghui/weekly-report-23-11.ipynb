{
 "cells": [
  {
   "cell_type": "code",
   "execution_count": 1,
   "metadata": {},
   "outputs": [],
   "source": [
    "from datasets import load_dataset\n",
    "import pandas as pd\n",
    "import os\n",
    "\n",
    "def get_file_list(root):\n",
    "    file_list = []\n",
    "    for path, subdirs, files in os.walk(root):\n",
    "        for name in files:\n",
    "            file_list.append(os.path.join(path, name))\n",
    "    return file_list\n",
    "\n",
    "train_files = get_file_list('/home/jmh/Datasets/kepler_fill/train/0010')\n",
    "# val_files = get_file_list('/home/jmh/Datasets/kepler/val/0109/')\n",
    "# test_files = get_file_list('/home/jmh/Datasets/kepler/test/0113/')\n",
    "\n",
    "def load_csv_data(file_path):\n",
    "    df = pd.read_csv(file_path)\n",
    "    data_dict = df.to_dict()\n",
    "    return {'data': data_dict}\n",
    "\n",
    "# dataset = load_dataset(load_csv_data, data_files={'train': train_files, 'val': val_files, 'test': test_files})"
   ]
  },
  {
   "cell_type": "code",
   "execution_count": 2,
   "metadata": {},
   "outputs": [
    {
     "ename": "IndexError",
     "evalue": "list index out of range",
     "output_type": "error",
     "traceback": [
      "\u001b[0;31m---------------------------------------------------------------------------\u001b[0m",
      "\u001b[0;31mIndexError\u001b[0m                                Traceback (most recent call last)",
      "\u001b[1;32m/home/jmh/Code/weekly-report/JiaMinghui/weekly-report-23-11.ipynb Cell 2\u001b[0m line \u001b[0;36m1\n\u001b[0;32m----> <a href='vscode-notebook-cell://ssh-remote%2B7b22686f73744e616d65223a224e414f43227d/home/jmh/Code/weekly-report/JiaMinghui/weekly-report-23-11.ipynb#W1sdnNjb2RlLXJlbW90ZQ%3D%3D?line=0'>1</a>\u001b[0m df \u001b[39m=\u001b[39m pd\u001b[39m.\u001b[39mread_csv(train_files[\u001b[39m0\u001b[39;49m])\n\u001b[1;32m      <a href='vscode-notebook-cell://ssh-remote%2B7b22686f73744e616d65223a224e414f43227d/home/jmh/Code/weekly-report/JiaMinghui/weekly-report-23-11.ipynb#W1sdnNjb2RlLXJlbW90ZQ%3D%3D?line=1'>2</a>\u001b[0m df\u001b[39m.\u001b[39minfo()\n",
      "\u001b[0;31mIndexError\u001b[0m: list index out of range"
     ]
    }
   ],
   "source": [
    "df = pd.read_csv(train_files[0])\n",
    "df.info()"
   ]
  },
  {
   "cell_type": "code",
   "execution_count": 9,
   "metadata": {},
   "outputs": [
    {
     "data": {
      "text/plain": [
       "array([        nan, -0.31149736, -0.6760786 , ..., -0.86970747,\n",
       "       -0.8340498 , -0.708848  ])"
      ]
     },
     "execution_count": 9,
     "metadata": {},
     "output_type": "execute_result"
    }
   ],
   "source": [
    "df[\"flux\"].values"
   ]
  }
 ],
 "metadata": {
  "kernelspec": {
   "display_name": "TSlib",
   "language": "python",
   "name": "python3"
  },
  "language_info": {
   "codemirror_mode": {
    "name": "ipython",
    "version": 3
   },
   "file_extension": ".py",
   "mimetype": "text/x-python",
   "name": "python",
   "nbconvert_exporter": "python",
   "pygments_lexer": "ipython3",
   "version": "3.11.5"
  }
 },
 "nbformat": 4,
 "nbformat_minor": 2
}
