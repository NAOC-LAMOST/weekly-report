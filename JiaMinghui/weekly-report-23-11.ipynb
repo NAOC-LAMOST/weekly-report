{
 "cells": [
  {
   "cell_type": "code",
   "execution_count": 8,
   "metadata": {},
   "outputs": [],
   "source": [
    "\"\"\"\n",
    "孔老师提供的同源表里的光谱命名方式如下\n",
    "不同数量的字符有不同的含义\n",
    "\"\"\"\n",
    "\n",
    "import os\n",
    "from astropy.io import fits\n",
    "\n",
    "root = '/mnt/remote/lamost/spectra_v2.9.8/'\n",
    "target = '20170926HIP4323K201017'\n",
    "\n",
    "date = target[:8]\n",
    "folder = target[8:-5]\n",
    "id1 = os.listdir(os.path.join(root, date, folder))[0].split('-')[1]\n",
    "sp = target[-5:-3]\n",
    "id2 = target[-3:]\n",
    "filename = 'spec-{}-{}_sp{}-{}.fits'.format(id1, folder, sp, id2)\n",
    "filepath = os.path.join(root, date, folder, filename)"
   ]
  },
  {
   "cell_type": "markdown",
   "metadata": {},
   "source": [
    "## 获取 Kepler 观测时间内的光谱"
   ]
  },
  {
   "cell_type": "markdown",
   "metadata": {},
   "source": [
    "### 观测时间内的光谱\n",
    "\n",
    "交叉步骤：\n",
    "1. 根据 ra、dec 交叉两者的 catalog，这一步很久之前用 topcat 做过，这里记为 kep_lam_pos。\n",
    "2. kep_lam_pos 中包含光变曲线和光谱的观测时间，卡 mjd 在 ktc_obsv_start_mjd 和 ktc_obsv_stop_mjd 之间的条目，这一步记为 kep_lam_mjd。\n",
    "3. 根据 kep_lam_mjd 中的 sci_data_set_name 去和 kep_flare_ev 交叉，拿到有光谱观测的耀发时间列表，记为 kep_lam_flare。\n",
    "\n",
    "注意可能存在的问题：\n",
    "1. kepler_lamost_possion 的交叉是以光变曲线和光谱进行位置最优匹配的，有可能存在匹配不全的问题，因为是多对多的问题。\n",
    "2. kepler_lamost_mjd 这一步的交叉卡的可能有点死，可能的导致召回降低。\n",
    "\n",
    "如果做的不好，可以考虑整理两个以星为单位的表，然后用 topcat 做交叉。\n",
    "\n"
   ]
  },
  {
   "cell_type": "code",
   "execution_count": 1,
   "metadata": {},
   "outputs": [
    {
     "name": "stdout",
     "output_type": "stream",
     "text": [
      "kep_lam_pos.shape:  (1302011, 114)\n",
      "['ktc_investigation_id', 'ktc_kepler_id', 'ktc_target_type', 'ktc_obsv_start_mjd', 'ktc_obsv_stop_mjd', 'ktc_obsv_start_time', 'ktc_obsv_stop_time', 'ktc_act_obsv_start_mjd', 'ktc_act_obsv_stop_mjd', 'ktc_act_obsv_start_time', 'ktc_act_obsv_stop_time', 'sci_ra', 'sci_dec', 'kic_pmra', 'kic_pmdec', 'kic_umag', 'kic_gmag', 'kic_rmag', 'kic_imag', 'kic_zmag', 'kic_gredmag', 'kic_d51mag', 'twoMass_jmag', 'twoMass_hmag', 'twoMass_kmag', 'kic_kepmag', 'twoMass_tmid', 'kic_scpid', 'kic_altid', 'kic_altsource', 'kic_galaxy', 'kic_blend', 'kic_variable', 'kic_teff', 'kic_logg', 'kic_feh', 'kic_ebminusv', 'kic_av', 'kic_radius', 'kic_cq', 'kic_pq', 'kic_aq', 'kic_catkey', 'kic_scpkey', 'kic_parallax', 'kic_glon', 'kic_glat', 'kic_pmtotal', 'kic_grcolor', 'twoMass_jkcolor', 'twoMass_gkcolor', 'twoMass_2mass_id', 'sci_archive_class', 'sci_data_set_name', 'refnum', 'sci_pep_id', 'sci_start_time', 'sci_end_time', 'sci_release_date', 'sci_generation_date', 'sci_data_quarter', 'condition_flag', 'sci_data_rel', 'twoMass_conflictFlag', 'sci_crowdsap', 'sci_flfrcsap', 'sci_Cdpp3_0', 'sci_Cdpp6_0', 'sci_Cdpp12_0', 'sci_contamination', 'sci_skygroup_id', 'sci_module', 'sci_channel', 'sci_output', 'sci_dct_purp', 'obsid', 'uid', 'gp_id', 'designation', 'obsdate', 'lmjd', 'mjd', 'planid', 'spid', 'fiberid', 'ra_obs', 'dec_obs', 'snru', 'snrg', 'snrr', 'snri', 'snrz', 'class', 'subclass', 'z', 'z_err', 'ps_id', 'mag_ps_g', 'mag_ps_r', 'mag_ps_i', 'mag_ps_z', 'mag_ps_y', 'gaia_source_id', 'gaia_g_mean_mag', 'fibertype', 'offsets', 'offsets_v', 'ra', 'dec', 'fibermask', 'with_norm_flux', 'GroupID', 'GroupSize', 'Separation']\n",
      "kep_lam_mjd.shape:  (109494, 114)\n",
      "kep_flare_ev.shape:  (30285, 8)\n",
      "['ktc_kepler_id', 'sci_data_set_name', 'fits', 'start', 'end', 'duration', 'energy', 'sci_data_quarter']\n",
      "kep_lam_flare.shape:  (1501, 121)\n"
     ]
    }
   ],
   "source": [
    "import pandas as pd\n",
    "\n",
    "# load kepler_lamost_possion by topcat\n",
    "kep_lam_pos = pd.read_csv('/home/jmh/Datasets/kepler_k2_lamost/match_kepler_lamostdr9.csv.gz')\n",
    "print('kep_lam_pos.shape: ', kep_lam_pos.shape)\n",
    "print(list(kep_lam_pos.columns))\n",
    "\n",
    "# cross match by mjd\n",
    "kep_lam_mjd = kep_lam_pos[(kep_lam_pos['mjd'] > kep_lam_pos['ktc_obsv_start_mjd']) & \\\n",
    "                          (kep_lam_pos['mjd'] < kep_lam_pos['ktc_obsv_stop_mjd'])]\n",
    "print('kep_lam_mjd.shape: ', kep_lam_mjd.shape)\n",
    "kep_lam_mjd.to_csv('/home/jmh/Datasets/kepler_k2_lamost/kep_lam_mjd.csv.gz', index=False)\n",
    "\n",
    "# cross match by sci_data_set_name\n",
    "kep_flare_ev = pd.read_csv('/home/jmh/Datasets/kepler_k2_lamost/kep_flare_ev.csv')\n",
    "print('kep_flare_ev.shape: ', kep_flare_ev.shape)\n",
    "print(list(kep_flare_ev.columns))\n",
    "kep_lam_flare = pd.merge(kep_lam_mjd, kep_flare_ev, on='sci_data_set_name', how='inner')\n",
    "print('kep_lam_flare.shape: ', kep_lam_flare.shape)\n",
    "kep_lam_flare.to_csv('/home/jmh/Datasets/kepler_k2_lamost/kep_lam_flare.csv.gz', index=False)"
   ]
  },
  {
   "cell_type": "markdown",
   "metadata": {},
   "source": [
    "### 多次光谱观测的星\n",
    "\n",
    "lam_dr9_lrs_simple.csv.gz 是 dr9 低分辨的光谱catalog，做了简化处理，只保留 uid obsid ra dec 等信息。\n",
    "\n",
    "步骤：\n",
    "1. kep_lam_flare 中的 uid 去重，得到 kep_lam_uid。\n",
    "2. 遍历 kep_lam_uid，筛选 lam_dr9_lrs_simple 中对应 uid 有多次观测的 obsid 列表。\n",
    "3. 最终得到的结果是一个 dict，有以下键值：\n",
    "    - ktc_kepler_id\n",
    "    - uid\n",
    "    - obs_spec: 观测到的光谱的信息，类型为 DataFrame，与官网保存的 csv 列名相同\n",
    "    - flare_ev: 耀发的信息，类型为 DataFrame，包括 ktc_kepler_id, quarter, start, end, duration, energy\n",
    "\n",
    "结果保存路径：/home/jmh/Datasets/kepler_k2_lamost/mult_spec_w_flare.pickle"
   ]
  },
  {
   "cell_type": "code",
   "execution_count": 7,
   "metadata": {},
   "outputs": [
    {
     "name": "stdout",
     "output_type": "stream",
     "text": [
      "lam_simple.shape:  (11211028, 6)\n"
     ]
    },
    {
     "name": "stderr",
     "output_type": "stream",
     "text": [
      "100%|██████████| 105/105 [00:59<00:00,  1.77it/s]"
     ]
    },
    {
     "name": "stdout",
     "output_type": "stream",
     "text": [
      "38\n"
     ]
    },
    {
     "name": "stderr",
     "output_type": "stream",
     "text": [
      "\n"
     ]
    }
   ],
   "source": [
    "import pandas as pd\n",
    "from tqdm import tqdm\n",
    "\n",
    "kep_lam_flare = pd.read_csv('/home/jmh/Datasets/kepler_k2_lamost/kep_lam_flare.csv.gz')\n",
    "kep_lam_flare_drop = kep_lam_flare.drop_duplicates(subset=['ktc_kepler_id_x'])\n",
    "kep_lam_flare_drop = kep_lam_flare_drop[['ktc_kepler_id_x', 'uid']]\n",
    "\n",
    "lam_simple = pd.read_csv('/home/jmh/Datasets/kepler_k2_lamost/lam_dr9_lrs_simple.csv.gz')\n",
    "print('lam_simple.shape: ', lam_simple.shape)\n",
    "\n",
    "target_obs_id = {}\n",
    "for uid in tqdm(kep_lam_flare_drop['uid'].tolist()):\n",
    "    tmp = lam_simple[lam_simple['uid'] == uid]\n",
    "    if tmp.shape[0] > 1:\n",
    "        target_obs_id[uid] = tmp['obsid'].tolist()\n",
    "print(len(target_obs_id.keys()))"
   ]
  },
  {
   "cell_type": "code",
   "execution_count": 23,
   "metadata": {},
   "outputs": [
    {
     "name": "stderr",
     "output_type": "stream",
     "text": [
      "100%|██████████| 38/38 [00:00<00:00, 578.60it/s]\n"
     ]
    }
   ],
   "source": [
    "import pickle\n",
    "\n",
    "obs_info = pd.read_csv('/home/jmh/Datasets/kepler_k2_lamost/obs_info.csv')\n",
    "res = []\n",
    "for uid in tqdm(target_obs_id.keys()):\n",
    "    item = {}\n",
    "\n",
    "    ktc_kepler_id = kep_lam_flare_drop[kep_lam_flare_drop['uid'] == uid]['ktc_kepler_id_x'].tolist()[0]\n",
    "    flare_ev = kep_flare_ev[kep_flare_ev['ktc_kepler_id'] == ktc_kepler_id]\n",
    "\n",
    "    obsid_list = target_obs_id[uid]\n",
    "    obs_spec = pd.DataFrame()\n",
    "    for obsid in obsid_list:\n",
    "        tmp = obs_info[obs_info['obsid'] == obsid]\n",
    "        obs_spec = pd.concat([obs_spec, tmp])\n",
    "    \n",
    "    item['uid'] = uid\n",
    "    item['ktc_kepler_id'] = ktc_kepler_id\n",
    "    item['obs_spec'] = obs_spec\n",
    "    item['flare_ev'] = flare_ev\n",
    "\n",
    "    res.append(item)\n",
    "\n",
    "with open('/home/jmh/Datasets/kepler_k2_lamost/mult_spec_w_flare.pickle', 'wb') as f:\n",
    "    pickle.dump(res, f, protocol=pickle.HIGHEST_PROTOCOL)"
   ]
  }
 ],
 "metadata": {
  "kernelspec": {
   "display_name": "TSlib",
   "language": "python",
   "name": "python3"
  },
  "language_info": {
   "codemirror_mode": {
    "name": "ipython",
    "version": 3
   },
   "file_extension": ".py",
   "mimetype": "text/x-python",
   "name": "python",
   "nbconvert_exporter": "python",
   "pygments_lexer": "ipython3",
   "version": "3.11.5"
  }
 },
 "nbformat": 4,
 "nbformat_minor": 2
}
