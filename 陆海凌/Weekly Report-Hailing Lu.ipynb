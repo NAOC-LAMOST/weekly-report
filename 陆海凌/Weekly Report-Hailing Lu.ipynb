{
 "cells": [
  {
   "cell_type": "markdown",
   "metadata": {},
   "source": [
    "# 工作周报"
   ]
  },
  {
   "cell_type": "markdown",
   "metadata": {},
   "source": [
    "### 2023.10.14\n",
    "\n",
    "【本周工作总结】：\n",
    "\n",
    "1、AGB文献总结：阅读总结AGB搜寻方法35篇左右；\n",
    "\n",
    "2、AGB文献搜集：新搜集AGB搜集相关文章3篇左右；\n",
    "\n",
    "3、知识学习：B站薛永泉老师《天文学导论》概览。\n",
    "\n",
    "【下周工作计划】：\n",
    "\n",
    "1、AGB文献总结：完成阅读总结所有的AGB搜寻方法及样本情况；\n",
    "\n",
    "2、AGB文献搜集：查看搜集结果是否完全，如不完全，继续进行搜集；\n",
    "\n",
    "3、知识学习：学习陈静师姐的代码。"
   ]
  },
  {
   "cell_type": "markdown",
   "metadata": {},
   "source": [
    "### 2023.10.22\n",
    "\n",
    "【本周工作总结】：\n",
    "\n",
    "1、AGB文献总结：完成阅读总结所有的样本情况（10篇），搜寻方法（21篇）；\n",
    "\n",
    "2、AGB文献搜集：新搜集AGB搜集相关文章3篇左右；\n",
    "\n",
    "3、知识学习：B站李宏毅老师《机器学习与深度学习》；听StarWisper大语言模型分享汇报。\n",
    "\n",
    "【下周工作计划】：\n",
    "\n",
    "1、AGB文献总结：完成阅读总结所有的AGB搜寻方法；\n",
    "\n",
    "2、AGB文献搜集：继续进行搜集；\n",
    "\n",
    "3、知识学习：学习陈静师姐的代码SVM部分。"
   ]
  },
  {
   "cell_type": "markdown",
   "metadata": {},
   "source": [
    "### 2023.10.29\n",
    "\n",
    "【本周工作总结】：\n",
    "\n",
    "1、文献搜集：新下了62篇文献。\n",
    " \n",
    "2、文献总结：其中14篇是在讲如何搜寻AGB，做了它们的总结，新增了1个新的搜寻方式文献方向。剩余的其它的大部分都是拿现成的星表做后续科学研究。\n",
    " \n",
    "3、文献阅读及PPT制作：《Scientific discovery in the age of artificial intelligence》。\n",
    "\n",
    "【下周工作计划】：\n",
    "\n",
    "1、继续进行文献总结及搜寻工作。\n",
    "\n",
    "2、学习画图代码。"
   ]
  },
  {
   "cell_type": "markdown",
   "metadata": {},
   "source": [
    "### 2023.11.04\n",
    "【本周工作总结】：\n",
    "\n",
    "1、文献搜集：本周新下了10篇左右文献；\n",
    "\n",
    "2、文献总结：新增4篇搜集方法的文献，新增2个AGB搜集方向（IRTS测光、射电波段），详读理解了5篇重点文献，包括一篇50页的AGB星表综述型《A New Catalog of Asymptotic Giant Branch Stars in Our Galaxy》；\n",
    "\n",
    "3、检查光谱rv值。\n",
    "\n",
    "【下周工作计划】：\n",
    "\n",
    "1、继续进行文献总结及搜寻工作；\n",
    "\n",
    "2、学习画图代码。"
   ]
  },
  {
   "cell_type": "markdown",
   "metadata": {},
   "source": [
    "### 2023.11.12\n",
    "【本周工作总结】：\n",
    "\n",
    "文献总结：完成搜集方式及Motivation的文献总结；\n",
    "\n",
    "【下周工作计划】：\n",
    "\n",
    "1、光谱检查：检查光谱rv值。\n",
    "2、总结汇报。"
   ]
  },
  {
   "cell_type": "markdown",
   "metadata": {},
   "source": [
    "### 2023.11.19\n",
    "【本周工作总结】：\n",
    "\n",
    "文献总结：完成搜集方式及Motivation的文献汇报；\n",
    "\n",
    "【下周工作计划】：\n",
    "\n",
    "1、协助画图。 2、完善文献阅读。"
   ]
  },
  {
   "cell_type": "markdown",
   "metadata": {},
   "source": [
    "### 2023.11.26\n",
    "\n",
    "【本周工作总结】：\n",
    "\n",
    "1、协助画图。 2、完善文献阅读。\n",
    "\n",
    "【下周工作计划】：\n",
    "\n",
    "1、完善文献阅读。 2、总结画图经验，组会分享。"
   ]
  },
  {
   "cell_type": "markdown",
   "metadata": {},
   "source": [
    "### 2023.12.02\n",
    "\n",
    "【本周工作总结】：\n",
    "\n",
    "1、完善文献阅读； \n",
    "2、协助topcat处理数据，Latex处理表格数据；\n",
    "3、总结画图经验，组会分享。\n",
    "\n",
    "【下周工作计划】：\n",
    "\n",
    "1、完善文献阅读。 \n",
    "2、文献总结。"
   ]
  },
  {
   "cell_type": "markdown",
   "metadata": {},
   "source": [
    "### 2023.12.09\n",
    "【本周工作总结】：\n",
    "\n",
    "1、文献阅读找寻Motivation； 2、文献阅读总结现有的搜寻方法； 3、开题报告撰写。\n",
    "\n",
    "【下周工作计划】：\n",
    "\n",
    "1、完善开题报告； 2、完成开题答辩PPT。"
   ]
  },
  {
   "cell_type": "markdown",
   "metadata": {},
   "source": [
    "### 2023.12.16\n",
    "【本周工作总结】：\n",
    "\n",
    "1、完成开题报告； 2、完成开题答辩PPT及讲稿；3、完成开题登记表。\n",
    "\n",
    "【下周工作计划】：\n",
    "\n",
    "1、完成画图；2、完善开题报告；3、完成答辩秘书的相关准备工作。"
   ]
  },
  {
   "cell_type": "markdown",
   "metadata": {},
   "source": [
    "### 2023.12.23\n",
    "【本周工作总结】：\n",
    "\n",
    "1、完成画图；2、完善开题报告；3、完成答辩秘书的相关准备工作。\n",
    "\n",
    "【下周工作计划】：\n",
    "\n",
    "1、完成答辩秘书的相关准备工作；2、进行开题答辩报告；3、修改画图。"
   ]
  },
  {
   "cell_type": "markdown",
   "metadata": {},
   "source": [
    "### 2023.12.27\n",
    "【本周工作总结】：\n",
    "\n",
    "1、完成答辩秘书的相关准备工作；2、进行开题答辩报告；3、修改画图。\n",
    "\n",
    "【下周工作计划】：\n",
    "\n",
    "1、进行RGB和AGB的可分性分析；2、准备PPT汇报；3、继续答辩秘书的后续工作。"
   ]
  },
  {
   "cell_type": "code",
   "execution_count": null,
   "metadata": {},
   "outputs": [],
   "source": []
  }
 ],
 "metadata": {
  "kernelspec": {
   "display_name": "Python 3",
   "language": "python",
   "name": "python3"
  },
  "language_info": {
   "codemirror_mode": {
    "name": "ipython",
    "version": 3
   },
   "file_extension": ".py",
   "mimetype": "text/x-python",
   "name": "python",
   "nbconvert_exporter": "python",
   "pygments_lexer": "ipython3",
   "version": "3.7.4"
  }
 },
 "nbformat": 4,
 "nbformat_minor": 2
}
